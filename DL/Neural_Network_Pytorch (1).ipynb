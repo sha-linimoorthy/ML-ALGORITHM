{
  "nbformat": 4,
  "nbformat_minor": 0,
  "metadata": {
    "colab": {
      "provenance": []
    },
    "kernelspec": {
      "name": "python3",
      "display_name": "Python 3"
    },
    "language_info": {
      "name": "python"
    }
  },
  "cells": [
    {
      "cell_type": "markdown",
      "source": [
        "# *A simple neural network in PyTorch*"
      ],
      "metadata": {
        "id": "OIqYTw0IDCXR"
      }
    },
    {
      "cell_type": "markdown",
      "source": [
        "### Install Pytorch -https://pytorch.org/"
      ],
      "metadata": {
        "id": "pAFOzmiVDOYR"
      }
    },
    {
      "cell_type": "code",
      "source": [
        "#Import Pytorch\n",
        "import torch\n",
        "import torchvision.datasets as datasets\n",
        "import torchvision.transforms as transforms\n",
        "import torch.nn as nn\n",
        "import torch.optim as optim"
      ],
      "metadata": {
        "id": "t8hOi-DxDNbq"
      },
      "execution_count": null,
      "outputs": []
    },
    {
      "cell_type": "markdown",
      "source": [
        "### Load and prepare the training data"
      ],
      "metadata": {
        "id": "-yr_BWuuMkgC"
      }
    },
    {
      "cell_type": "code",
      "source": [
        "transform=transforms.Compose([transforms.ToTensor(),\n",
        "                              transforms.Normalize((0.1307,),(0.3081,))])\n",
        "train_dataset=datasets.MNIST('data',train=True,download=True,transform=transform)\n",
        "train_loader=torch.utils.data.DataLoader(train_dataset,batch_size=64,shuffle=True)\n"
      ],
      "metadata": {
        "id": "4UHREwhWSEwx",
        "colab": {
          "base_uri": "https://localhost:8080/"
        },
        "outputId": "6761a3b2-6968-49dd-9a36-44b044fba387"
      },
      "execution_count": null,
      "outputs": [
        {
          "output_type": "stream",
          "name": "stdout",
          "text": [
            "Downloading http://yann.lecun.com/exdb/mnist/train-images-idx3-ubyte.gz\n",
            "Downloading http://yann.lecun.com/exdb/mnist/train-images-idx3-ubyte.gz to data/MNIST/raw/train-images-idx3-ubyte.gz\n"
          ]
        },
        {
          "output_type": "stream",
          "name": "stderr",
          "text": [
            "100%|██████████| 9912422/9912422 [00:00<00:00, 197679293.09it/s]"
          ]
        },
        {
          "output_type": "stream",
          "name": "stdout",
          "text": [
            "Extracting data/MNIST/raw/train-images-idx3-ubyte.gz to data/MNIST/raw\n"
          ]
        },
        {
          "output_type": "stream",
          "name": "stderr",
          "text": [
            "\n"
          ]
        },
        {
          "output_type": "stream",
          "name": "stdout",
          "text": [
            "\n",
            "Downloading http://yann.lecun.com/exdb/mnist/train-labels-idx1-ubyte.gz\n",
            "Downloading http://yann.lecun.com/exdb/mnist/train-labels-idx1-ubyte.gz to data/MNIST/raw/train-labels-idx1-ubyte.gz\n"
          ]
        },
        {
          "output_type": "stream",
          "name": "stderr",
          "text": [
            "100%|██████████| 28881/28881 [00:00<00:00, 30973074.36it/s]\n"
          ]
        },
        {
          "output_type": "stream",
          "name": "stdout",
          "text": [
            "Extracting data/MNIST/raw/train-labels-idx1-ubyte.gz to data/MNIST/raw\n",
            "\n",
            "Downloading http://yann.lecun.com/exdb/mnist/t10k-images-idx3-ubyte.gz\n",
            "Downloading http://yann.lecun.com/exdb/mnist/t10k-images-idx3-ubyte.gz to data/MNIST/raw/t10k-images-idx3-ubyte.gz\n"
          ]
        },
        {
          "output_type": "stream",
          "name": "stderr",
          "text": [
            "100%|██████████| 1648877/1648877 [00:00<00:00, 75261901.56it/s]"
          ]
        },
        {
          "output_type": "stream",
          "name": "stdout",
          "text": [
            "Extracting data/MNIST/raw/t10k-images-idx3-ubyte.gz to data/MNIST/raw\n"
          ]
        },
        {
          "output_type": "stream",
          "name": "stderr",
          "text": [
            "\n"
          ]
        },
        {
          "output_type": "stream",
          "name": "stdout",
          "text": [
            "\n",
            "Downloading http://yann.lecun.com/exdb/mnist/t10k-labels-idx1-ubyte.gz\n",
            "Downloading http://yann.lecun.com/exdb/mnist/t10k-labels-idx1-ubyte.gz to data/MNIST/raw/t10k-labels-idx1-ubyte.gz\n"
          ]
        },
        {
          "output_type": "stream",
          "name": "stderr",
          "text": [
            "100%|██████████| 4542/4542 [00:00<00:00, 13415865.33it/s]\n"
          ]
        },
        {
          "output_type": "stream",
          "name": "stdout",
          "text": [
            "Extracting data/MNIST/raw/t10k-labels-idx1-ubyte.gz to data/MNIST/raw\n",
            "\n"
          ]
        }
      ]
    },
    {
      "cell_type": "markdown",
      "source": [
        "### Define the model"
      ],
      "metadata": {
        "id": "kxNShGWFWwnH"
      }
    },
    {
      "cell_type": "code",
      "source": [
        "class Neural(nn.Module):\n",
        "  def __init__(self):\n",
        "    super(Neural,self).__init__()\n",
        "    self.fc1=nn.Linear(28*28,128)\n",
        "    self.fc2=nn.Linear(128,64)\n",
        "    self.fc3=nn.Linear(64,10)\n",
        "  def forward(self,x):\n",
        "    x=x.view(-1,28*28)\n",
        "    x=torch.relu(self.fc1(x))\n",
        "    x=torch.relu(self.fc2(x))\n",
        "    x=self.fc3(x)\n",
        "    return x\n",
        "net=Neural()"
      ],
      "metadata": {
        "id": "skqjkRlCW5b7"
      },
      "execution_count": null,
      "outputs": []
    },
    {
      "cell_type": "markdown",
      "source": [
        "### Define the loss function and Optimizer"
      ],
      "metadata": {
        "id": "VGWk_TMkYitU"
      }
    },
    {
      "cell_type": "code",
      "source": [
        "criterion=nn.CrossEntropyLoss()\n",
        "optimizer=optim.SGD(net.parameters(),lr=0.01,momentum=0.5)\n"
      ],
      "metadata": {
        "id": "Ka713-vVYiNk"
      },
      "execution_count": null,
      "outputs": []
    },
    {
      "cell_type": "markdown",
      "source": [
        "### Train the model"
      ],
      "metadata": {
        "id": "PT4ffOagzALH"
      }
    },
    {
      "cell_type": "code",
      "source": [
        "num_epochs=10\n",
        "for epoch in range(num_epochs):\n",
        "  for batch_idx,(data,target) in enumerate (train_loader):\n",
        "    optimizer.zero_grad()\n",
        "    output=net(data)\n",
        "    loss =criterion(output,target)\n",
        "    loss.backward()\n",
        "    optimizer.step()\n",
        "    if batch_idx % 100==0:\n",
        "      print('Train Epoch: {} [{}/{} ({:.0f}%)]\\tLoss: {:.6f}'.format(\n",
        "                epoch, batch_idx * len(data), len(train_loader.dataset),\n",
        "                100. * batch_idx / len(train_loader), loss.item()))\n"
      ],
      "metadata": {
        "colab": {
          "base_uri": "https://localhost:8080/"
        },
        "id": "1TSC7eFIX4Jy",
        "outputId": "6885ea08-81cd-44ee-97af-d41cb1d86da9"
      },
      "execution_count": null,
      "outputs": [
        {
          "output_type": "stream",
          "name": "stdout",
          "text": [
            "Train Epoch: 0 [0/60000 (0%)]\tLoss: 2.306195\n",
            "Train Epoch: 0 [6400/60000 (11%)]\tLoss: 1.235706\n",
            "Train Epoch: 0 [12800/60000 (21%)]\tLoss: 0.518795\n",
            "Train Epoch: 0 [19200/60000 (32%)]\tLoss: 0.474512\n",
            "Train Epoch: 0 [25600/60000 (43%)]\tLoss: 0.205703\n",
            "Train Epoch: 0 [32000/60000 (53%)]\tLoss: 0.227999\n",
            "Train Epoch: 0 [38400/60000 (64%)]\tLoss: 0.233429\n",
            "Train Epoch: 0 [44800/60000 (75%)]\tLoss: 0.293533\n",
            "Train Epoch: 0 [51200/60000 (85%)]\tLoss: 0.232272\n",
            "Train Epoch: 0 [57600/60000 (96%)]\tLoss: 0.384469\n",
            "Train Epoch: 1 [0/60000 (0%)]\tLoss: 0.455999\n",
            "Train Epoch: 1 [6400/60000 (11%)]\tLoss: 0.113698\n",
            "Train Epoch: 1 [12800/60000 (21%)]\tLoss: 0.267755\n",
            "Train Epoch: 1 [19200/60000 (32%)]\tLoss: 0.203493\n",
            "Train Epoch: 1 [25600/60000 (43%)]\tLoss: 0.164612\n",
            "Train Epoch: 1 [32000/60000 (53%)]\tLoss: 0.447070\n",
            "Train Epoch: 1 [38400/60000 (64%)]\tLoss: 0.222694\n",
            "Train Epoch: 1 [44800/60000 (75%)]\tLoss: 0.151749\n",
            "Train Epoch: 1 [51200/60000 (85%)]\tLoss: 0.235973\n",
            "Train Epoch: 1 [57600/60000 (96%)]\tLoss: 0.318417\n",
            "Train Epoch: 2 [0/60000 (0%)]\tLoss: 0.251770\n",
            "Train Epoch: 2 [6400/60000 (11%)]\tLoss: 0.287279\n",
            "Train Epoch: 2 [12800/60000 (21%)]\tLoss: 0.185859\n",
            "Train Epoch: 2 [19200/60000 (32%)]\tLoss: 0.262542\n",
            "Train Epoch: 2 [25600/60000 (43%)]\tLoss: 0.125862\n",
            "Train Epoch: 2 [32000/60000 (53%)]\tLoss: 0.298063\n",
            "Train Epoch: 2 [38400/60000 (64%)]\tLoss: 0.147390\n",
            "Train Epoch: 2 [44800/60000 (75%)]\tLoss: 0.121653\n",
            "Train Epoch: 2 [51200/60000 (85%)]\tLoss: 0.146850\n",
            "Train Epoch: 2 [57600/60000 (96%)]\tLoss: 0.129604\n",
            "Train Epoch: 3 [0/60000 (0%)]\tLoss: 0.303169\n",
            "Train Epoch: 3 [6400/60000 (11%)]\tLoss: 0.312540\n",
            "Train Epoch: 3 [12800/60000 (21%)]\tLoss: 0.112873\n",
            "Train Epoch: 3 [19200/60000 (32%)]\tLoss: 0.091706\n",
            "Train Epoch: 3 [25600/60000 (43%)]\tLoss: 0.228518\n",
            "Train Epoch: 3 [32000/60000 (53%)]\tLoss: 0.099117\n",
            "Train Epoch: 3 [38400/60000 (64%)]\tLoss: 0.150208\n",
            "Train Epoch: 3 [44800/60000 (75%)]\tLoss: 0.172216\n",
            "Train Epoch: 3 [51200/60000 (85%)]\tLoss: 0.109828\n",
            "Train Epoch: 3 [57600/60000 (96%)]\tLoss: 0.219579\n",
            "Train Epoch: 4 [0/60000 (0%)]\tLoss: 0.086565\n",
            "Train Epoch: 4 [6400/60000 (11%)]\tLoss: 0.087433\n",
            "Train Epoch: 4 [12800/60000 (21%)]\tLoss: 0.043005\n",
            "Train Epoch: 4 [19200/60000 (32%)]\tLoss: 0.092910\n",
            "Train Epoch: 4 [25600/60000 (43%)]\tLoss: 0.151557\n",
            "Train Epoch: 4 [32000/60000 (53%)]\tLoss: 0.082323\n",
            "Train Epoch: 4 [38400/60000 (64%)]\tLoss: 0.206274\n",
            "Train Epoch: 4 [44800/60000 (75%)]\tLoss: 0.073437\n",
            "Train Epoch: 4 [51200/60000 (85%)]\tLoss: 0.066527\n",
            "Train Epoch: 4 [57600/60000 (96%)]\tLoss: 0.186218\n",
            "Train Epoch: 5 [0/60000 (0%)]\tLoss: 0.073433\n",
            "Train Epoch: 5 [6400/60000 (11%)]\tLoss: 0.075272\n",
            "Train Epoch: 5 [12800/60000 (21%)]\tLoss: 0.167526\n",
            "Train Epoch: 5 [19200/60000 (32%)]\tLoss: 0.122273\n",
            "Train Epoch: 5 [25600/60000 (43%)]\tLoss: 0.067377\n",
            "Train Epoch: 5 [32000/60000 (53%)]\tLoss: 0.189883\n",
            "Train Epoch: 5 [38400/60000 (64%)]\tLoss: 0.220752\n",
            "Train Epoch: 5 [44800/60000 (75%)]\tLoss: 0.152576\n",
            "Train Epoch: 5 [51200/60000 (85%)]\tLoss: 0.201592\n",
            "Train Epoch: 5 [57600/60000 (96%)]\tLoss: 0.025568\n",
            "Train Epoch: 6 [0/60000 (0%)]\tLoss: 0.020846\n",
            "Train Epoch: 6 [6400/60000 (11%)]\tLoss: 0.106886\n",
            "Train Epoch: 6 [12800/60000 (21%)]\tLoss: 0.093971\n",
            "Train Epoch: 6 [19200/60000 (32%)]\tLoss: 0.021586\n",
            "Train Epoch: 6 [25600/60000 (43%)]\tLoss: 0.179532\n",
            "Train Epoch: 6 [32000/60000 (53%)]\tLoss: 0.019172\n",
            "Train Epoch: 6 [38400/60000 (64%)]\tLoss: 0.087681\n",
            "Train Epoch: 6 [44800/60000 (75%)]\tLoss: 0.157490\n",
            "Train Epoch: 6 [51200/60000 (85%)]\tLoss: 0.134794\n",
            "Train Epoch: 6 [57600/60000 (96%)]\tLoss: 0.012307\n",
            "Train Epoch: 7 [0/60000 (0%)]\tLoss: 0.046342\n",
            "Train Epoch: 7 [6400/60000 (11%)]\tLoss: 0.030510\n",
            "Train Epoch: 7 [12800/60000 (21%)]\tLoss: 0.077461\n",
            "Train Epoch: 7 [19200/60000 (32%)]\tLoss: 0.177895\n",
            "Train Epoch: 7 [25600/60000 (43%)]\tLoss: 0.115734\n",
            "Train Epoch: 7 [32000/60000 (53%)]\tLoss: 0.099222\n",
            "Train Epoch: 7 [38400/60000 (64%)]\tLoss: 0.123489\n",
            "Train Epoch: 7 [44800/60000 (75%)]\tLoss: 0.086147\n",
            "Train Epoch: 7 [51200/60000 (85%)]\tLoss: 0.269035\n",
            "Train Epoch: 7 [57600/60000 (96%)]\tLoss: 0.027987\n",
            "Train Epoch: 8 [0/60000 (0%)]\tLoss: 0.060823\n",
            "Train Epoch: 8 [6400/60000 (11%)]\tLoss: 0.084548\n",
            "Train Epoch: 8 [12800/60000 (21%)]\tLoss: 0.100404\n",
            "Train Epoch: 8 [19200/60000 (32%)]\tLoss: 0.059530\n",
            "Train Epoch: 8 [25600/60000 (43%)]\tLoss: 0.027546\n",
            "Train Epoch: 8 [32000/60000 (53%)]\tLoss: 0.075094\n",
            "Train Epoch: 8 [38400/60000 (64%)]\tLoss: 0.061328\n",
            "Train Epoch: 8 [44800/60000 (75%)]\tLoss: 0.036869\n",
            "Train Epoch: 8 [51200/60000 (85%)]\tLoss: 0.071561\n",
            "Train Epoch: 8 [57600/60000 (96%)]\tLoss: 0.031820\n",
            "Train Epoch: 9 [0/60000 (0%)]\tLoss: 0.066642\n",
            "Train Epoch: 9 [6400/60000 (11%)]\tLoss: 0.150167\n",
            "Train Epoch: 9 [12800/60000 (21%)]\tLoss: 0.015235\n",
            "Train Epoch: 9 [19200/60000 (32%)]\tLoss: 0.111578\n",
            "Train Epoch: 9 [25600/60000 (43%)]\tLoss: 0.252798\n",
            "Train Epoch: 9 [32000/60000 (53%)]\tLoss: 0.099657\n",
            "Train Epoch: 9 [38400/60000 (64%)]\tLoss: 0.049703\n",
            "Train Epoch: 9 [44800/60000 (75%)]\tLoss: 0.060405\n",
            "Train Epoch: 9 [51200/60000 (85%)]\tLoss: 0.106107\n",
            "Train Epoch: 9 [57600/60000 (96%)]\tLoss: 0.016125\n"
          ]
        }
      ]
    },
    {
      "cell_type": "markdown",
      "source": [
        "### Load the test data and test the model"
      ],
      "metadata": {
        "id": "07qN1otrzEZ9"
      }
    },
    {
      "cell_type": "code",
      "source": [
        "test_dataset=datasets.MNIST('data',train=False,download=True,transform=transform)\n",
        "test_loader=torch.utils.data.DataLoader(test_dataset,batch_size=1000,shuffle=True)\n",
        "correct=0\n",
        "total=0\n",
        "with torch.no_grad():\n",
        "  output=net(data)\n",
        "  _,predicted=torch.max(output.data,1)\n",
        "  total+=target.size(0)\n",
        "  correct+=(predicted==target).sum().item()"
      ],
      "metadata": {
        "id": "F2lrmOs_v02B"
      },
      "execution_count": null,
      "outputs": []
    },
    {
      "cell_type": "markdown",
      "source": [
        "### Accuracy"
      ],
      "metadata": {
        "id": "u-3fQYTwzOE6"
      }
    },
    {
      "cell_type": "code",
      "source": [
        "print('Accuracy of the network on the 10000 test images: %d %%' % (\n",
        "    100 * correct / total))"
      ],
      "metadata": {
        "colab": {
          "base_uri": "https://localhost:8080/"
        },
        "id": "dNFAEhL5x2Lg",
        "outputId": "c370f92a-6e83-49d7-ea0a-11bc75eaf2aa"
      },
      "execution_count": null,
      "outputs": [
        {
          "output_type": "stream",
          "name": "stdout",
          "text": [
            "Accuracy of the network on the 10000 test images: 100 %\n"
          ]
        }
      ]
    },
    {
      "cell_type": "code",
      "source": [],
      "metadata": {
        "id": "ZF9LKEgT4dYC"
      },
      "execution_count": null,
      "outputs": []
    }
  ]
}