{
  "nbformat": 4,
  "nbformat_minor": 0,
  "metadata": {
    "colab": {
      "provenance": []
    },
    "kernelspec": {
      "name": "python3",
      "display_name": "Python 3"
    },
    "language_info": {
      "name": "python"
    }
  },
  "cells": [
    {
      "cell_type": "markdown",
      "source": [
        "**Logistic Regression** =>classification technique for only 0 and 1's\n",
        "\n",
        "Classification\n",
        "1.   Binary\n",
        "2.   Multi Class\n",
        "Swiggled Line, sigmoid or Logit function\n",
        "\n",
        "\n",
        "\n",
        "*   Uses Maximum Liklihood instead of R-squared\n",
        "*   Calculates likelihood\n",
        "* e=> Euler's Number => 2.71828\n",
        "* Sigmoid Range 0 to 1\n",
        "* y=mx+c (Linear regression)\n",
        "* y=1/(1+e^-(m*x+b)) (logistic regression)\n",
        "\n",
        "calculating log so logistic\n",
        "\n"
      ],
      "metadata": {
        "id": "vomWxGVYLoze"
      }
    },
    {
      "cell_type": "markdown",
      "source": [
        "Transforming o to 1 log(odds) => -infinity to +infinity\n",
        "\n",
        "![image.png](data:image/png;base64,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)"
      ],
      "metadata": {
        "id": "TDyObjlJQ5AL"
      }
    },
    {
      "cell_type": "markdown",
      "source": [
        "**Types of Logistic Regression**\n",
        "\n",
        "1)Binary Logistic Regression\n",
        "\n",
        "2)Multinomial Regression\n",
        "\n",
        "3)Ordinal (range)"
      ],
      "metadata": {
        "id": "j_cuTnkESBWE"
      }
    },
    {
      "cell_type": "markdown",
      "source": [
        "***Where to use? weather,Grades***\n",
        "\n",
        "Sigmoid can only predict 0 to 1 but why for multinomial function, [SOFTMAX]\n",
        "\n",
        "Model Evaluation => Confusion Matrix\n",
        "\n",
        "PRECISION\n",
        "\n",
        "RECALL\n",
        "\n",
        "ACCURACY\n",
        "\n",
        "SENSITIVITY\n"
      ],
      "metadata": {
        "id": "uIIIC23gRMeN"
      }
    },
    {
      "cell_type": "code",
      "execution_count": null,
      "metadata": {
        "id": "AZ67d1veKPQO"
      },
      "outputs": [],
      "source": [
        "import numpy as np\n",
        "import matplotlib.pyplot as plt"
      ]
    },
    {
      "cell_type": "code",
      "source": [
        "X=np.array([1,2,3,4,5,6,7,8,9,10])\n",
        "y=np.array([0,0,0,0,1,1,1,1,1,1])"
      ],
      "metadata": {
        "id": "URS8PhyiJPkz"
      },
      "execution_count": null,
      "outputs": []
    },
    {
      "cell_type": "code",
      "source": [
        "def sigmoid(z):\n",
        "  return 1/(1+np.exp(-z))\n"
      ],
      "metadata": {
        "id": "mfhUn2ggJfId"
      },
      "execution_count": null,
      "outputs": []
    },
    {
      "cell_type": "code",
      "source": [
        "X=np.column_stack((np.ones(X.shape[0]),X))"
      ],
      "metadata": {
        "id": "blnL_xDiJrD2"
      },
      "execution_count": null,
      "outputs": []
    },
    {
      "cell_type": "code",
      "source": [
        "X"
      ],
      "metadata": {
        "colab": {
          "base_uri": "https://localhost:8080/"
        },
        "id": "n4rE08faJrGF",
        "outputId": "7a4e0c63-3eb9-4700-e73b-5350117aaf76"
      },
      "execution_count": null,
      "outputs": [
        {
          "output_type": "execute_result",
          "data": {
            "text/plain": [
              "array([[ 1.,  1.],\n",
              "       [ 1.,  2.],\n",
              "       [ 1.,  3.],\n",
              "       [ 1.,  4.],\n",
              "       [ 1.,  5.],\n",
              "       [ 1.,  6.],\n",
              "       [ 1.,  7.],\n",
              "       [ 1.,  8.],\n",
              "       [ 1.,  9.],\n",
              "       [ 1., 10.]])"
            ]
          },
          "metadata": {},
          "execution_count": 55
        }
      ]
    },
    {
      "cell_type": "code",
      "source": [
        "num_features=X.shape[1]\n",
        "print(num_features)\n",
        "params=np.zeros(num_features) #weights\n",
        "print(params)"
      ],
      "metadata": {
        "colab": {
          "base_uri": "https://localhost:8080/"
        },
        "id": "rgqA2l5UJrJb",
        "outputId": "7435af0c-3d1f-4422-9c02-7ed4158c18d2"
      },
      "execution_count": null,
      "outputs": [
        {
          "output_type": "stream",
          "name": "stdout",
          "text": [
            "2\n",
            "[0. 0.]\n"
          ]
        }
      ]
    },
    {
      "cell_type": "code",
      "source": [
        "num_iterations=10000\n",
        "learning_rate=0.1 # Do not use 0.001 as parameter has been tunned"
      ],
      "metadata": {
        "id": "njQG6nrxJrM5"
      },
      "execution_count": null,
      "outputs": []
    },
    {
      "cell_type": "code",
      "source": [
        "for _ in range(num_iterations):\n",
        "  z=np.dot(X,params) #mx+c\n",
        "  y_pred=sigmoid(z)\n",
        "  gradient=np.dot(X.T,(y_pred -y))/len(y)\n",
        "  params-=learning_rate*gradient"
      ],
      "metadata": {
        "id": "O6e4M7RoJrQQ"
      },
      "execution_count": null,
      "outputs": []
    },
    {
      "cell_type": "code",
      "source": [
        "X_range=np.linspace(X[:,1].min() -1, X[:,1].max() +1,100)\n",
        "y_range=sigmoid(params[0]+params[1]*X_range) #m and c are params"
      ],
      "metadata": {
        "id": "W0vsOmgEMXfx"
      },
      "execution_count": null,
      "outputs": []
    },
    {
      "cell_type": "code",
      "source": [
        "plt.plot(X_range,y_range,label=\"Logistic Regression\")\n",
        "plt.scatter(X[y==0][:,1],y[y==0],label='Class 0',color='blue')\n",
        "plt.scatter(X[y==1][:,1],y[y==1],label=\"Class 1\",color='red')\n",
        "plt.xlabel('Feature')\n",
        "plt.ylabel('Probability (y)')\n",
        "plt.legend()\n",
        "plt.title('Logistic Regression')\n",
        "plt.grid(True)\n",
        "plt.show()"
      ],
      "metadata": {
        "colab": {
          "base_uri": "https://localhost:8080/",
          "height": 472
        },
        "id": "FL0TfaEnNiC2",
        "outputId": "02ea2a61-1c6d-413b-ba73-8493beaef858"
      },
      "execution_count": null,
      "outputs": [
        {
          "output_type": "display_data",
          "data": {
            "text/plain": [
              "<Figure size 640x480 with 1 Axes>"
            ],
            "image/png": "[encoded data removed]"
          },
          "metadata": {}
        }
      ]
    },
    {
      "cell_type": "code",
      "source": [],
      "metadata": {
        "id": "6IcCi48xOq90"
      },
      "execution_count": null,
      "outputs": []
    }
  ]
}