{
  "nbformat": 4,
  "nbformat_minor": 0,
  "metadata": {
    "colab": {
      "provenance": [],
      "authorship_tag": "ABX9TyOajt4cLDlCf/SQa7E4Yc6O",
      "include_colab_link": true
    },
    "kernelspec": {
      "name": "python3",
      "display_name": "Python 3"
    },
    "language_info": {
      "name": "python"
    }
  },
  "cells": [
    {
      "cell_type": "markdown",
      "metadata": {
        "id": "view-in-github",
        "colab_type": "text"
      },
      "source": [
        "<a href=\"https://colab.research.google.com/github/sha-linimoorthy/ML-ALGORITHM/blob/main/NaiveBayes.ipynb\" target=\"_parent\"><img src=\"https://colab.research.google.com/assets/colab-badge.svg\" alt=\"Open In Colab\"/></a>"
      ]
    },
    {
      "cell_type": "code",
      "execution_count": null,
      "metadata": {
        "id": "r2x3gGf6cJVK"
      },
      "outputs": [],
      "source": [
        "import numpy as np\n",
        "import pandas as pd\n",
        "from sklearn.naive_bayes import GaussianNB"
      ]
    },
    {
      "cell_type": "code",
      "source": [
        "dataframe=pd.read_csv('https://raw.githubusercontent.com/nunnarilabs/ml/master/titanic/train.csv')\n",
        "test_df=pd.read_csv('https://raw.githubusercontent.com/nunnarilabs/ml/master/titanic/test.csv')\n"
      ],
      "metadata": {
        "id": "cE811TKGdfcH"
      },
      "execution_count": null,
      "outputs": []
    },
    {
      "cell_type": "code",
      "source": [
        "dataframe"
      ],
      "metadata": {
        "id": "gRKaQ2DYeqMA"
      },
      "execution_count": null,
      "outputs": []
    },
    {
      "cell_type": "code",
      "source": [
        "test_df"
      ],
      "metadata": {
        "id": "qiaudDe_evVj"
      },
      "execution_count": null,
      "outputs": []
    },
    {
      "cell_type": "code",
      "source": [
        "passengerId=test_df[\"PassengerId\"]"
      ],
      "metadata": {
        "id": "LgM9_2sfec8t"
      },
      "execution_count": null,
      "outputs": []
    },
    {
      "cell_type": "code",
      "source": [
        "final_df=dataframe[['Survived','Pclass','Sex','Age','SibSp','Parch','Fare','Embarked']]"
      ],
      "metadata": {
        "id": "x9L4AOQDenoo"
      },
      "execution_count": null,
      "outputs": []
    },
    {
      "cell_type": "code",
      "source": [
        "final_df=final_df.dropna()\n",
        "final_df.head()"
      ],
      "metadata": {
        "id": "be7oSiibfJB4"
      },
      "execution_count": null,
      "outputs": []
    },
    {
      "cell_type": "code",
      "source": [
        "final_df.Sex=final_df.Sex.replace(['male','female'],[0,1])"
      ],
      "metadata": {
        "id": "tGUXKjV-fRO2"
      },
      "execution_count": null,
      "outputs": []
    },
    {
      "cell_type": "code",
      "source": [
        "final_df"
      ],
      "metadata": {
        "id": "1JnTmcsRf-TD"
      },
      "execution_count": null,
      "outputs": []
    },
    {
      "cell_type": "markdown",
      "source": [
        "**One Hot Encoding**"
      ],
      "metadata": {
        "id": "dPviwXBxg020"
      }
    },
    {
      "cell_type": "code",
      "source": [
        "final_df=pd.get_dummies(final_df,drop_first=True) #categorical variables seperate columns"
      ],
      "metadata": {
        "id": "wDsq_x99gCUn"
      },
      "execution_count": null,
      "outputs": []
    },
    {
      "cell_type": "code",
      "source": [
        "final_df"
      ],
      "metadata": {
        "id": "cTRRIFw2glOF"
      },
      "execution_count": null,
      "outputs": []
    },
    {
      "cell_type": "code",
      "source": [
        "train_y=final_df['Survived']\n",
        "train_x=final_df[['Pclass','Sex','Age','SibSp','Parch','Fare','Embarked_Q','Embarked_S']]\n"
      ],
      "metadata": {
        "id": "DssJ6c-9hFcZ"
      },
      "execution_count": null,
      "outputs": []
    },
    {
      "cell_type": "code",
      "source": [
        "from sklearn.model_selection import train_test_split\n",
        "train_data,val_data,train_target,val_target=train_test_split(train_x,train_y,train_size=0.8)"
      ],
      "metadata": {
        "id": "34ZjutENhqLl"
      },
      "execution_count": null,
      "outputs": []
    },
    {
      "cell_type": "code",
      "source": [
        "model=GaussianNB()\n",
        "model.fit(train_data,train_target)\n",
        "val_pred=model.predict(val_data)"
      ],
      "metadata": {
        "id": "mtbpNhWCiyKJ"
      },
      "execution_count": null,
      "outputs": []
    },
    {
      "cell_type": "code",
      "source": [
        "from sklearn.metrics import accuracy_score\n",
        "print(accuracy_score(val_target,val_pred)*100)"
      ],
      "metadata": {
        "id": "vGw0dWXokA7T"
      },
      "execution_count": null,
      "outputs": []
    },
    {
      "cell_type": "code",
      "source": [],
      "metadata": {
        "id": "fc7VIpw_kLMf"
      },
      "execution_count": null,
      "outputs": []
    }
  ]
}